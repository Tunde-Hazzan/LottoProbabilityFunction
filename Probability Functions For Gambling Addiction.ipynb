{
 "cells": [
  {
   "cell_type": "markdown",
   "metadata": {},
   "source": [
    "# Assessing Lottery Winning Probabilities #"
   ]
  },
  {
   "cell_type": "markdown",
   "metadata": {},
   "source": [
    "Many people start playing the lottery for fun, but for some this activity turns into a habit which eventually escalates into addiction. Like other compulsive gamblers, lottery addicts soon begin spending from their savings and loans, they start to accumulate debts, and eventually engage in desperate behaviors like theft.\n",
    "\n",
    "The aim of this study will be to develop a logical based on assessing probabilities that can be used as part of a potential application to manage gambling addiction.\n",
    "\n",
    "We'll be basing this study on the 6/49 lottery format and build functions that enable users to answer questions like:\n",
    "\n",
    "- What is the probability of winning the big prize with a single ticket?\n",
    "- What is the probability of winning the big prize if we play 40 different tickets (or any other number)?\n",
    "- What is the probability of having at least five (or four, or three, or two) winning numbers on a single ticket?\n",
    "\n",
    "The [data set](https://www.kaggle.com/datascienceai/lottery-dataset) has data for 3,665 drawings of the Canadian National Lottery, dating from 1982 to 2018. This will enable us to use this historical data to better inform our probability metrics.\n",
    "\n",
    "\n",
    "While the scenario we're following throughout this project is fictional the main purpose is to practice applying the concepts of permutations and combinations in a real-world scenario."
   ]
  },
  {
   "cell_type": "markdown",
   "metadata": {},
   "source": [
    "**Core Functions of The Application**\n",
    "\n",
    "Our goal is to write code that can enable users to answer probability questions about playing the lottery. Throughout the project, we'll need to calculate repeatedly probabilities and combinations. As a consequence, we'll start by writing two functions that we'll use often:\n",
    "\n",
    "- A function that calculates factorials;\n",
    "- A function that calculates combinations.\n",
    "\n",
    "To calculate factorials, this is the formula we will use:\n",
    "\n",
    "n! = n×(n−1)×(n−2)×...×2×1\n",
    "\n",
    "In the 6/49 lottery, six numbers are drawn from a set of 49 numbers that range from 1 to 49. The drawing is done without replacement, which means once a number is drawn, it's not put back in the set.\n",
    "\n",
    "To find the number of combinations when we're sampling without replacement and taking only k objects from a group of n objects, we can use the formula:\n",
    "\n",
    "nCk=(nk)=n! / k!(n−k)!\n",
    "\n",
    "Below we will create these functions"
   ]
  },
  {
   "cell_type": "code",
   "execution_count": 1,
   "metadata": {},
   "outputs": [],
   "source": [
    "# creating the function to calculate factorials\n",
    "\n",
    "def factorial(n):\n",
    "    final_product = 1\n",
    "    for i in range(n, 0, -1):\n",
    "        final_product *= i\n",
    "    return final_product\n",
    "\n",
    "# creating the function to calculate combinations\n",
    "\n",
    "def combinations(n, k):\n",
    "    numerator = factorial(n)\n",
    "    denominator = factorial(k) * factorial(n-k)\n",
    "    return numerator/denominator"
   ]
  },
  {
   "cell_type": "markdown",
   "metadata": {},
   "source": [
    "In the 6/49 lottery, six numbers are drawn from a set of 49 numbers that range from 1 to 49. A player wins the big prize if the six numbers on their tickets match all the six numbers drawn. If a player has a ticket with the numbers {13, 22, 24, 27, 42, 44}, they only win the big prize if the numbers drawn are {13, 22, 24, 27, 42, 44}. \n",
    "\n",
    "If only one number differs, they don't win.\n",
    "\n",
    "We want players to be able to calculate the probability of winning the big prize with the various numbers they play on a single ticket. We can start by building a function that calculates the probability of winning the big prize for any given ticket."
   ]
  },
  {
   "cell_type": "code",
   "execution_count": 2,
   "metadata": {},
   "outputs": [],
   "source": [
    "# creating a function to calculate probability of winning the big prize\n",
    "\n",
    "def one_ticket_probability(user_numbers):\n",
    "    \n",
    "    n_combinations = combinations(49, 6)\n",
    "    probability_one_ticket = 1/n_combinations\n",
    "    percentage_form = probability_one_ticket * 100\n",
    "    \n",
    "    print('''Your chances to win the big prize with the numbers {} are {:.7f}%.\n",
    "In other words, you have a 1 in {:,} chances to win.'''.format(user_numbers,\n",
    "                    percentage_form, int(n_combinations)))\n",
    "    "
   ]
  },
  {
   "cell_type": "code",
   "execution_count": 3,
   "metadata": {},
   "outputs": [],
   "source": [
    "# testing the function\n",
    "\n",
    "\n",
    "test_input_1 = [6, 44, 2, 24, 5, 47]\n",
    "one_ticket_probability(test_input_1)"
   ]
  },
  {
   "cell_type": "markdown",
   "metadata": {},
   "source": [
    "**Comparing Against Past Lottery Results**\n",
    "\n",
    "Users should also be able to compare their ticket against the historical lottery data in Canada and determine whether they would have ever won the lottery at any stage in the past.\n",
    "\n"
   ]
  },
  {
   "cell_type": "code",
   "execution_count": 4,
   "metadata": {},
   "outputs": [
    {
     "name": "stdout",
     "output_type": "stream",
     "text": [
      "<class 'pandas.core.frame.DataFrame'>\n",
      "RangeIndex: 3665 entries, 0 to 3664\n",
      "Data columns (total 11 columns):\n",
      " #   Column           Non-Null Count  Dtype \n",
      "---  ------           --------------  ----- \n",
      " 0   PRODUCT          3665 non-null   int64 \n",
      " 1   DRAW NUMBER      3665 non-null   int64 \n",
      " 2   SEQUENCE NUMBER  3665 non-null   int64 \n",
      " 3   DRAW DATE        3665 non-null   object\n",
      " 4   NUMBER DRAWN 1   3665 non-null   int64 \n",
      " 5   NUMBER DRAWN 2   3665 non-null   int64 \n",
      " 6   NUMBER DRAWN 3   3665 non-null   int64 \n",
      " 7   NUMBER DRAWN 4   3665 non-null   int64 \n",
      " 8   NUMBER DRAWN 5   3665 non-null   int64 \n",
      " 9   NUMBER DRAWN 6   3665 non-null   int64 \n",
      " 10  BONUS NUMBER     3665 non-null   int64 \n",
      "dtypes: int64(10), object(1)\n",
      "memory usage: 315.1+ KB\n"
     ]
    }
   ],
   "source": [
    "# reading in the dataset to pandas dataframe\n",
    "\n",
    "import pandas as pd\n",
    "\n",
    "can_lotto = pd.read_csv(r\"C:\\Users\\thazzan\\Documents\\Python Scripts\\Probability Functions For Gambling Addiction\\649.csv\")\n",
    "\n",
    "# displaying dataset rows and columns\n",
    "\n",
    "can_lotto.info()"
   ]
  },
  {
   "cell_type": "code",
   "execution_count": 5,
   "metadata": {},
   "outputs": [
    {
     "data": {
      "text/html": [
       "<div>\n",
       "<style scoped>\n",
       "    .dataframe tbody tr th:only-of-type {\n",
       "        vertical-align: middle;\n",
       "    }\n",
       "\n",
       "    .dataframe tbody tr th {\n",
       "        vertical-align: top;\n",
       "    }\n",
       "\n",
       "    .dataframe thead th {\n",
       "        text-align: right;\n",
       "    }\n",
       "</style>\n",
       "<table border=\"1\" class=\"dataframe\">\n",
       "  <thead>\n",
       "    <tr style=\"text-align: right;\">\n",
       "      <th></th>\n",
       "      <th>PRODUCT</th>\n",
       "      <th>DRAW NUMBER</th>\n",
       "      <th>SEQUENCE NUMBER</th>\n",
       "      <th>DRAW DATE</th>\n",
       "      <th>NUMBER DRAWN 1</th>\n",
       "      <th>NUMBER DRAWN 2</th>\n",
       "      <th>NUMBER DRAWN 3</th>\n",
       "      <th>NUMBER DRAWN 4</th>\n",
       "      <th>NUMBER DRAWN 5</th>\n",
       "      <th>NUMBER DRAWN 6</th>\n",
       "      <th>BONUS NUMBER</th>\n",
       "    </tr>\n",
       "  </thead>\n",
       "  <tbody>\n",
       "    <tr>\n",
       "      <th>0</th>\n",
       "      <td>649</td>\n",
       "      <td>1</td>\n",
       "      <td>0</td>\n",
       "      <td>6/12/1982</td>\n",
       "      <td>3</td>\n",
       "      <td>11</td>\n",
       "      <td>12</td>\n",
       "      <td>14</td>\n",
       "      <td>41</td>\n",
       "      <td>43</td>\n",
       "      <td>13</td>\n",
       "    </tr>\n",
       "    <tr>\n",
       "      <th>1</th>\n",
       "      <td>649</td>\n",
       "      <td>2</td>\n",
       "      <td>0</td>\n",
       "      <td>6/19/1982</td>\n",
       "      <td>8</td>\n",
       "      <td>33</td>\n",
       "      <td>36</td>\n",
       "      <td>37</td>\n",
       "      <td>39</td>\n",
       "      <td>41</td>\n",
       "      <td>9</td>\n",
       "    </tr>\n",
       "    <tr>\n",
       "      <th>2</th>\n",
       "      <td>649</td>\n",
       "      <td>3</td>\n",
       "      <td>0</td>\n",
       "      <td>6/26/1982</td>\n",
       "      <td>1</td>\n",
       "      <td>6</td>\n",
       "      <td>23</td>\n",
       "      <td>24</td>\n",
       "      <td>27</td>\n",
       "      <td>39</td>\n",
       "      <td>34</td>\n",
       "    </tr>\n",
       "  </tbody>\n",
       "</table>\n",
       "</div>"
      ],
      "text/plain": [
       "   PRODUCT  DRAW NUMBER  SEQUENCE NUMBER  DRAW DATE  NUMBER DRAWN 1  \\\n",
       "0      649            1                0  6/12/1982               3   \n",
       "1      649            2                0  6/19/1982               8   \n",
       "2      649            3                0  6/26/1982               1   \n",
       "\n",
       "   NUMBER DRAWN 2  NUMBER DRAWN 3  NUMBER DRAWN 4  NUMBER DRAWN 5  \\\n",
       "0              11              12              14              41   \n",
       "1              33              36              37              39   \n",
       "2               6              23              24              27   \n",
       "\n",
       "   NUMBER DRAWN 6  BONUS NUMBER  \n",
       "0              43            13  \n",
       "1              41             9  \n",
       "2              39            34  "
      ]
     },
     "execution_count": 5,
     "metadata": {},
     "output_type": "execute_result"
    }
   ],
   "source": [
    "# reviewing the data\n",
    "\n",
    "can_lotto.head(3)"
   ]
  },
  {
   "cell_type": "markdown",
   "metadata": {},
   "source": [
    "The next step requires us to create a new function that will be able to tell us:\n",
    "\n",
    "- The number of times the selected combination occurred in the Canada data set\n",
    "- The probability of winning the big prize in the next drawing with that combination"
   ]
  },
  {
   "cell_type": "code",
   "execution_count": 8,
   "metadata": {},
   "outputs": [
    {
     "data": {
      "text/plain": [
       "0    {3, 41, 11, 12, 43, 14}\n",
       "1    {33, 36, 37, 39, 8, 41}\n",
       "2     {1, 6, 39, 23, 24, 27}\n",
       "3     {3, 9, 10, 43, 13, 20}\n",
       "4    {34, 5, 14, 47, 21, 31}\n",
       "dtype: object"
      ]
     },
     "execution_count": 8,
     "metadata": {},
     "output_type": "execute_result"
    }
   ],
   "source": [
    "# Creating a function to extract winning numbers from data frame\n",
    "\n",
    "def extract_numbers(row):\n",
    "    row = row[4:10]\n",
    "    row = set(row.values)\n",
    "    return row\n",
    "\n",
    "winning_numbers = can_lotto.apply(extract_numbers, axis=1)\n",
    "winning_numbers.head()"
   ]
  },
  {
   "cell_type": "code",
   "execution_count": 14,
   "metadata": {},
   "outputs": [
    {
     "name": "stdout",
     "output_type": "stream",
     "text": [
      "The combination [4, 9, 10, 27, 48, 36] has never occured.\n",
      "This doesn't mean it's more likely to occur now. Your chances to win the big prize in the next drawing using the combination [4, 9, 10, 27, 48, 36] are 0.0000072%.\n",
      "In other words, you have a 1 in 13,983,816 chances to win.\n"
     ]
    }
   ],
   "source": [
    "# creating the function to check historical occurences of winning numbers\n",
    "\n",
    "def check_historical_occurrence(user_nums, past_wins):\n",
    "    \n",
    "    user_numbers_set = set(user_nums)\n",
    "    check_occurrence = past_wins == user_numbers_set\n",
    "    n_occurrences = check_occurrence.sum()\n",
    "    \n",
    "    if n_occurrences == 0:\n",
    "        print('''The combination {} has never occured.\n",
    "This doesn't mean it's more likely to occur now. Your chances to win the big prize in the next drawing using the combination {} are 0.0000072%.\n",
    "In other words, you have a 1 in 13,983,816 chances to win.'''.format(user_nums, user_nums))\n",
    "        \n",
    "    else:\n",
    "        print('''The number of times combination {} has occured in the past is {}.\n",
    "Your chances to win the big prize in the next drawing using the combination {} are 0.0000072%.\n",
    "In other words, you have a 1 in 13,983,816 chances to win.'''.format(user_nums, n_occurrences,\n",
    "                                                                            user_nums))\n",
    "        \n",
    "\n",
    "# checking the output of the function\n",
    "\n",
    "test_input_x = [4, 9, 10, 27, 48, 36]\n",
    "\n",
    "check_historical_occurrence(test_input_x, winning_numbers)\n",
    "        \n"
   ]
  },
  {
   "cell_type": "markdown",
   "metadata": {},
   "source": [
    "**Creating A Function To Calculate Probability Of Multiple Tickets**\n",
    "\n",
    "Lottery addicts usually play more than one ticket on a single drawing, thinking that this might increase their chances of winning significantly. \n",
    "\n",
    "Our purpose is to help them better estimate their chances of winning — as such we will create a function that will allow users to calculate the chances of winning for any number of different tickets."
   ]
  },
  {
   "cell_type": "code",
   "execution_count": 16,
   "metadata": {},
   "outputs": [
    {
     "name": "stdout",
     "output_type": "stream",
     "text": [
      "Your chances to win the big prize with one ticket are 0.000007%.\n",
      "In other words, you have a 1 in 13,983,816 chances to win.\n",
      "------------------------\n",
      "Your chances to win the big prize with 10 different tickets are 0.000072%.\n",
      "In other words, you have a 1 in 1,398,382 chances to win.\n",
      "------------------------\n",
      "Your chances to win the big prize with 100 different tickets are 0.000715%.\n",
      "In other words, you have a 1 in 139,838 chances to win.\n",
      "------------------------\n",
      "Your chances to win the big prize with 10,000 different tickets are 0.071511%.\n",
      "In other words, you have a 1 in 1,398 chances to win.\n",
      "------------------------\n",
      "Your chances to win the big prize with 1,000,000 different tickets are 7.151124%.\n",
      "In other words, you have a 1 in 14 chances to win.\n",
      "------------------------\n",
      "Your chances to win the big prize with 6,991,908 different tickets are 50.000000%.\n",
      "In other words, you have a 1 in 2 chances to win.\n",
      "------------------------\n",
      "Your chances to win the big prize with 13,983,816 different tickets are 100.000000%.\n",
      "In other words, you have a 1 in 1 chances to win.\n",
      "------------------------\n"
     ]
    }
   ],
   "source": [
    "# Creating the function to test for wins on multiple tickets\n",
    "\n",
    "def multi_ticket_probability(n_tickets):\n",
    "    \n",
    "    n_combinations = combinations(49, 6)\n",
    "    \n",
    "    probability = n_tickets / n_combinations\n",
    "    percentage_form = probability * 100\n",
    "    \n",
    "    if n_tickets == 1:\n",
    "        print('''Your chances to win the big prize with one ticket are {:.6f}%.\n",
    "In other words, you have a 1 in {:,} chances to win.'''.format(percentage_form, int(n_combinations)))\n",
    "    \n",
    "    else:\n",
    "        combinations_simplified = round(n_combinations / n_tickets)   \n",
    "        print('''Your chances to win the big prize with {:,} different tickets are {:.6f}%.\n",
    "In other words, you have a 1 in {:,} chances to win.'''.format(n_tickets, percentage_form,\n",
    "                                                               combinations_simplified))\n",
    "        \n",
    "        \n",
    "# checking the output of the function\n",
    "\n",
    "test_inputs = [1, 10, 100, 10000, 1000000, 6991908, 13983816]\n",
    "\n",
    "for test_input in test_inputs:\n",
    "    multi_ticket_probability(test_input)\n",
    "    print('------------------------') # output delimiter"
   ]
  },
  {
   "cell_type": "markdown",
   "metadata": {},
   "source": [
    "**Less Winning Numbers**\n",
    "\n",
    "In most 6/49 lotteries, there are smaller prizes if a player's ticket match two, three, four, or five of the six numbers drawn. This means that players might be interested in finding out the probability of having two, three, four, or five winning numbers.\n",
    "\n",
    "This function will aim to give users this answer."
   ]
  },
  {
   "cell_type": "code",
   "execution_count": 17,
   "metadata": {},
   "outputs": [
    {
     "name": "stdout",
     "output_type": "stream",
     "text": [
      "Your chances of having 2 winning numbers with this ticket are 13.237803%.\n",
      "In other words, you have a 1 in 8 chances to win.\n",
      "--------------------------\n",
      "Your chances of having 3 winning numbers with this ticket are 1.765040%.\n",
      "In other words, you have a 1 in 57 chances to win.\n",
      "--------------------------\n",
      "Your chances of having 4 winning numbers with this ticket are 0.096862%.\n",
      "In other words, you have a 1 in 1,032 chances to win.\n",
      "--------------------------\n",
      "Your chances of having 5 winning numbers with this ticket are 0.001845%.\n",
      "In other words, you have a 1 in 54,201 chances to win.\n",
      "--------------------------\n"
     ]
    }
   ],
   "source": [
    "def probability_less_6(n_winning_numbers):\n",
    "    \n",
    "    n_combinations_ticket = combinations(6, n_winning_numbers)\n",
    "    n_combinations_remaining = combinations(43, 6 - n_winning_numbers)\n",
    "    successful_outcomes = n_combinations_ticket * n_combinations_remaining\n",
    "    \n",
    "    n_combinations_total = combinations(49, 6)    \n",
    "    probability = successful_outcomes / n_combinations_total\n",
    "    \n",
    "    probability_percentage = probability * 100    \n",
    "    combinations_simplified = round(n_combinations_total/successful_outcomes)    \n",
    "    print('''Your chances of having {} winning numbers with this ticket are {:.6f}%.\n",
    "In other words, you have a 1 in {:,} chances to win.'''.format(n_winning_numbers, probability_percentage,\n",
    "                                                               int(combinations_simplified)))\n",
    "    \n",
    "\n",
    "# Reviewing output\n",
    "\n",
    "for test_input in [2, 3, 4, 5]:\n",
    "    probability_less_6(test_input)\n",
    "    print('--------------------------') # output delimiter"
   ]
  }
 ],
 "metadata": {
  "kernelspec": {
   "display_name": "Python 3",
   "language": "python",
   "name": "python3"
  },
  "language_info": {
   "codemirror_mode": {
    "name": "ipython",
    "version": 3
   },
   "file_extension": ".py",
   "mimetype": "text/x-python",
   "name": "python",
   "nbconvert_exporter": "python",
   "pygments_lexer": "ipython3",
   "version": "3.7.6"
  }
 },
 "nbformat": 4,
 "nbformat_minor": 4
}
